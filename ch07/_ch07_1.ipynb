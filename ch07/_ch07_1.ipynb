{
  "nbformat": 4,
  "nbformat_minor": 0,
  "metadata": {
    "colab": {
      "provenance": []
    },
    "kernelspec": {
      "name": "python3",
      "display_name": "Python 3"
    },
    "language_info": {
      "name": "python"
    }
  },
  "cells": [
    {
      "cell_type": "code",
      "execution_count": null,
      "metadata": {
        "id": "MUkS7gGTAYlW"
      },
      "outputs": [],
      "source": [
        "from google.colab import drive\n",
        "import cv2\n",
        "from google.colab.patches import cv2_imshow\n",
        "import numpy as np\n",
        "import matplotlib.pyplot as plt"
      ]
    },
    {
      "cell_type": "code",
      "source": [
        "drive.mount('/content/gdrive')"
      ],
      "metadata": {
        "colab": {
          "base_uri": "https://localhost:8080/"
        },
        "id": "zQlHGckZAgvL",
        "outputId": "5adc7b41-3582-4904-ef98-640d9ead93f8"
      },
      "execution_count": null,
      "outputs": [
        {
          "output_type": "stream",
          "name": "stdout",
          "text": [
            "Mounted at /content/gdrive\n"
          ]
        }
      ]
    },
    {
      "cell_type": "code",
      "source": [
        "img = cv2.imread('/content/gdrive/My Drive/ColabIP/Images/shrinking.bmp')\n",
        "RGB_img = cv2.cvtColor(img, cv2.COLOR_BGR2RGB)\n",
        "\n",
        "gImg = cv2.cvtColor(RGB_img, cv2.COLOR_RGB2GRAY)\n",
        "print(gImg.shape)\n",
        "cv2_imshow(gImg)\n",
        "#plt.imshow(gImg, cmap='gray')"
      ],
      "metadata": {
        "colab": {
          "base_uri": "https://localhost:8080/",
          "height": 291
        },
        "id": "Ilf4JakJAifs",
        "outputId": "087b9cbe-7a4d-4609-8d34-fdc34dda2dde"
      },
      "execution_count": null,
      "outputs": [
        {
          "output_type": "stream",
          "name": "stdout",
          "text": [
            "(256, 256)\n"
          ]
        },
        {
          "output_type": "display_data",
          "data": {
            "text/plain": [
              "<PIL.Image.Image image mode=L size=256x256>"
            ],
            "image/png": "[encoded data removed]",
            "image/jpeg": "[encoded data removed]"
          },
          "metadata": {}
        }
      ]
    },
    {
      "cell_type": "code",
      "source": [
        "ouimg = cv2.resize(gImg, None, fx=0.5, fy=0.5, interpolation=cv2.INTER_NEAREST)\n",
        "cv2_imshow(ouimg)"
      ],
      "metadata": {
        "colab": {
          "base_uri": "https://localhost:8080/",
          "height": 145
        },
        "id": "oBMmwa07AuxG",
        "outputId": "a9ddd6db-6b9a-4499-ddd5-5a15b5728cce"
      },
      "execution_count": null,
      "outputs": [
        {
          "output_type": "display_data",
          "data": {
            "text/plain": [
              "<PIL.Image.Image image mode=L size=128x128>"
            ],
            "image/png": "[encoded data removed]",
            "image/jpeg": "[encoded data removed]"
          },
          "metadata": {}
        }
      ]
    },
    {
      "cell_type": "code",
      "source": [
        "#ouimg = cv2.resize(gImg, None, fx=0.5, fy=0.5, interpolation=cv2.INTER_NEAREST)\n",
        "#outimg = cv2.resize(gImg, None, fx=0.5, fy=0.5, interpolation=cv2.INTER_LINEAR)\n",
        "outimg = cv2.resize(gImg, None, fx=0.3, fy=0.3, interpolation=cv2.INTER_CUBIC)\n",
        "\n",
        "cv2_imshow(outimg)"
      ],
      "metadata": {
        "colab": {
          "base_uri": "https://localhost:8080/",
          "height": 94
        },
        "id": "cI6FNuxrA-DP",
        "outputId": "8b9ca61f-0a23-4ac8-d8d4-16528e6d8170"
      },
      "execution_count": null,
      "outputs": [
        {
          "output_type": "display_data",
          "data": {
            "text/plain": [
              "<PIL.Image.Image image mode=L size=77x77>"
            ],
            "image/png": "[encoded data removed]",
            "image/jpeg": "[encoded data removed]"
          },
          "metadata": {}
        }
      ]
    },
    {
      "cell_type": "code",
      "source": [
        "blurimg = cv2.GaussianBlur(gImg, (3,3), 1)\n",
        "#ouimg = cv2.resize(blurimg, None, fx=0.5, fy=0.5, interpolation=cv2.INTER_NEAREST)\n",
        "outimg = cv2.resize(blurimg, None, fx=0.3, fy=0.3, interpolation=cv2.INTER_LINEAR)\n",
        "#outimg = cv2.resize(blurimg, None, fx=0.3, fy=0.3, interpolation=cv2.INTER_CUBIC)\n",
        "cv2_imshow(outimg)"
      ],
      "metadata": {
        "colab": {
          "base_uri": "https://localhost:8080/",
          "height": 94
        },
        "id": "2ecopvXgBqKJ",
        "outputId": "fb40440a-19aa-49c3-a58f-ad7dfb57ad8f"
      },
      "execution_count": null,
      "outputs": [
        {
          "output_type": "display_data",
          "data": {
            "text/plain": [
              "<PIL.Image.Image image mode=L size=77x77>"
            ],
            "image/png": "[encoded data removed]",
            "image/jpeg": "[encoded data removed]"
          },
          "metadata": {}
        }
      ]
    }
  ]
}